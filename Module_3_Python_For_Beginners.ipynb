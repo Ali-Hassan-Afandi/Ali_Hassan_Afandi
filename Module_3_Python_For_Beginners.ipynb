{
  "nbformat": 4,
  "nbformat_minor": 0,
  "metadata": {
    "colab": {
      "provenance": [],
      "include_colab_link": true
    },
    "kernelspec": {
      "name": "python3",
      "display_name": "Python 3"
    },
    "language_info": {
      "name": "python"
    }
  },
  "cells": [
    {
      "cell_type": "markdown",
      "metadata": {
        "id": "view-in-github",
        "colab_type": "text"
      },
      "source": [
        "<a href=\"https://colab.research.google.com/github/Ali-Hassan-Afandi/Ali_Hassan_Afandi/blob/main/Module_3_Python_For_Beginners.ipynb\" target=\"_parent\"><img src=\"https://colab.research.google.com/assets/colab-badge.svg\" alt=\"Open In Colab\"/></a>"
      ]
    },
    {
      "cell_type": "code",
      "execution_count": null,
      "metadata": {
        "id": "OWTk3kjbVrvO"
      },
      "outputs": [],
      "source": []
    },
    {
      "cell_type": "markdown",
      "source": [
        "Print Statement"
      ],
      "metadata": {
        "id": "5zVR9R3SWhyw"
      }
    },
    {
      "cell_type": "markdown",
      "source": [
        "Python For Beginners"
      ],
      "metadata": {
        "id": "mZ3URdQbWP6J"
      }
    },
    {
      "cell_type": "code",
      "source": [
        "print(\"Hello World\")"
      ],
      "metadata": {
        "colab": {
          "base_uri": "https://localhost:8080/"
        },
        "id": "EjcxXzcQWTC7",
        "outputId": "5da33bb7-4b86-4022-8a6e-fea65987eed7"
      },
      "execution_count": null,
      "outputs": [
        {
          "output_type": "stream",
          "name": "stdout",
          "text": [
            "Hello World\n"
          ]
        }
      ]
    },
    {
      "cell_type": "code",
      "source": [
        "print(\"MAhpara Siddique\")\n",
        "#this is a print statement"
      ],
      "metadata": {
        "colab": {
          "base_uri": "https://localhost:8080/"
        },
        "id": "fB-76GQ6Wpw0",
        "outputId": "4a9e582d-4c54-4c52-cf0e-bb2c6faddf2f"
      },
      "execution_count": null,
      "outputs": [
        {
          "output_type": "stream",
          "name": "stdout",
          "text": [
            "MAhpara Siddique\n"
          ]
        }
      ]
    },
    {
      "cell_type": "markdown",
      "source": [
        "variables"
      ],
      "metadata": {
        "id": "2MzbeyBoX6SH"
      }
    },
    {
      "cell_type": "code",
      "source": [
        "kitchen = 999\n",
        "print(type(kitchen))"
      ],
      "metadata": {
        "colab": {
          "base_uri": "https://localhost:8080/"
        },
        "id": "98Wj3wdxX7jn",
        "outputId": "19005ab1-e082-4a1a-af9b-942fdf966134"
      },
      "execution_count": null,
      "outputs": [
        {
          "output_type": "stream",
          "name": "stdout",
          "text": [
            "<class 'int'>\n"
          ]
        }
      ]
    },
    {
      "cell_type": "markdown",
      "source": [
        "Arithmetic Operators"
      ],
      "metadata": {
        "id": "PRUIW3mqZkYw"
      }
    },
    {
      "cell_type": "code",
      "source": [
        "x = 5\n",
        "y = 10\n",
        "print(x+y)\n",
        "print(x-y)\n",
        "print(x*y)\n",
        "print(x/y)\n",
        "print(x%y)"
      ],
      "metadata": {
        "colab": {
          "base_uri": "https://localhost:8080/"
        },
        "id": "h8F6FAuCZeA9",
        "outputId": "6fac1865-d2d8-43a6-d4a7-2aba628b2cae"
      },
      "execution_count": null,
      "outputs": [
        {
          "output_type": "stream",
          "name": "stdout",
          "text": [
            "15\n",
            "-5\n",
            "50\n",
            "0.5\n",
            "5\n"
          ]
        }
      ]
    },
    {
      "cell_type": "markdown",
      "source": [
        "LOgical Operator"
      ],
      "metadata": {
        "id": "AbSRODVWaUGW"
      }
    },
    {
      "cell_type": "code",
      "source": [
        "opr1 = True\n",
        "opr2 = False\n",
        "opr3 = True\n",
        "print((opr1 and opr3) or opr2)\n",
        "print(opr1 or opr2)\n",
        "print(not opr2)"
      ],
      "metadata": {
        "colab": {
          "base_uri": "https://localhost:8080/"
        },
        "id": "NwGhuNupaWJo",
        "outputId": "007a5a2c-0a62-4341-c679-79fa4ac8e274"
      },
      "execution_count": null,
      "outputs": [
        {
          "output_type": "stream",
          "name": "stdout",
          "text": [
            "True\n",
            "True\n",
            "True\n"
          ]
        }
      ]
    },
    {
      "cell_type": "markdown",
      "source": [
        "Comparison Operator"
      ],
      "metadata": {
        "id": "hBNmmTxqbFPb"
      }
    },
    {
      "cell_type": "code",
      "source": [
        "x = 5\n",
        "y = 10\n",
        "print(x==y)\n",
        "print(x!=y)\n",
        "print(x>y)\n",
        "print(x<y)\n",
        "print(x>=y)\n",
        "print(x<=y)"
      ],
      "metadata": {
        "colab": {
          "base_uri": "https://localhost:8080/"
        },
        "id": "KiKgYeVHbHyb",
        "outputId": "5fb436ee-01d1-4172-a1be-fb7107de1dc9"
      },
      "execution_count": null,
      "outputs": [
        {
          "output_type": "stream",
          "name": "stdout",
          "text": [
            "False\n",
            "True\n",
            "False\n",
            "True\n",
            "False\n",
            "True\n"
          ]
        }
      ]
    },
    {
      "cell_type": "markdown",
      "source": [
        "IF ELIF ELSE statements"
      ],
      "metadata": {
        "id": "DOyIeRG5cbx1"
      }
    },
    {
      "cell_type": "code",
      "source": [
        "weather = \"cold\"\n",
        "\n",
        "if weather == \"rainy\":\n",
        "  print(\"Take an Umbrella\")\n",
        "elif weather == \"sunny\":\n",
        "  print(\"wear sunglasses\")\n",
        "else:\n",
        "  print(\"Enjoy the weather\")"
      ],
      "metadata": {
        "colab": {
          "base_uri": "https://localhost:8080/"
        },
        "id": "-K8Kcqkacgjk",
        "outputId": "685bb9a6-8378-4ff6-ac8f-d56ed2c588ef"
      },
      "execution_count": null,
      "outputs": [
        {
          "output_type": "stream",
          "name": "stdout",
          "text": [
            "Enjoy the weather\n"
          ]
        }
      ]
    },
    {
      "cell_type": "code",
      "source": [
        "age = 10\n",
        "if age >= 18:\n",
        "  print(\"You are eligible to vote\")\n",
        "else:\n",
        "  print(\"You are not eligible to vote\")"
      ],
      "metadata": {
        "colab": {
          "base_uri": "https://localhost:8080/"
        },
        "id": "B-mfy4rZdOAq",
        "outputId": "5433e923-58d0-4279-e18f-a93b45c5edf9"
      },
      "execution_count": null,
      "outputs": [
        {
          "output_type": "stream",
          "name": "stdout",
          "text": [
            "You are not eligible to vote\n"
          ]
        }
      ]
    },
    {
      "cell_type": "markdown",
      "source": [
        "For Loop"
      ],
      "metadata": {
        "id": "avmzQsHJd7or"
      }
    },
    {
      "cell_type": "code",
      "source": [
        "for i in range(3,10,2): #start , end(exclusive), jump\n",
        "  print(i)"
      ],
      "metadata": {
        "colab": {
          "base_uri": "https://localhost:8080/"
        },
        "id": "pXbYjhkZd_-W",
        "outputId": "64f4d8c1-a681-43eb-8f84-dfbd53bc4859"
      },
      "execution_count": null,
      "outputs": [
        {
          "output_type": "stream",
          "name": "stdout",
          "text": [
            "3\n",
            "5\n",
            "7\n",
            "9\n"
          ]
        }
      ]
    },
    {
      "cell_type": "markdown",
      "source": [
        "While Loop"
      ],
      "metadata": {
        "id": "2SGsK9DfgwAq"
      }
    },
    {
      "cell_type": "code",
      "source": [
        "i = 0\n",
        "while i < 10:\n",
        "  print(i)\n",
        "  i += 1"
      ],
      "metadata": {
        "colab": {
          "base_uri": "https://localhost:8080/"
        },
        "id": "jxH6g4e8gxm7",
        "outputId": "d3dd2c36-5a15-43ef-8de5-76440902d2f7"
      },
      "execution_count": null,
      "outputs": [
        {
          "output_type": "stream",
          "name": "stdout",
          "text": [
            "0\n",
            "1\n",
            "2\n",
            "3\n",
            "4\n",
            "5\n",
            "6\n",
            "7\n",
            "8\n",
            "9\n"
          ]
        }
      ]
    },
    {
      "cell_type": "markdown",
      "source": [
        "User defined function"
      ],
      "metadata": {
        "id": "lADSzE3Fhyuc"
      }
    },
    {
      "cell_type": "code",
      "source": [
        "def multiply (x,y):\n",
        "  output = x*y\n",
        "  return output\n",
        "\n",
        "x = 5\n",
        "y = 10\n",
        "output = multiply(x,y)\n",
        "print(output)"
      ],
      "metadata": {
        "colab": {
          "base_uri": "https://localhost:8080/"
        },
        "id": "GJ92XY83h0wS",
        "outputId": "c467bf0a-5a69-4c0a-acfd-e5b18fb63f85"
      },
      "execution_count": null,
      "outputs": [
        {
          "output_type": "stream",
          "name": "stdout",
          "text": [
            "50\n"
          ]
        }
      ]
    },
    {
      "cell_type": "markdown",
      "source": [
        "built in function"
      ],
      "metadata": {
        "id": "TDx5o-jliW2j"
      }
    },
    {
      "cell_type": "code",
      "source": [
        "x = 5\n",
        "y = 10\n",
        "maximum = max(x,y)\n",
        "minimum = min(x,y)\n",
        "print(minimum)\n",
        "print(maximum)"
      ],
      "metadata": {
        "colab": {
          "base_uri": "https://localhost:8080/"
        },
        "id": "LxfTYudyiZP5",
        "outputId": "42c2eca9-7815-4d54-eff9-c3cdfcc833f1"
      },
      "execution_count": null,
      "outputs": [
        {
          "output_type": "stream",
          "name": "stdout",
          "text": [
            "5\n",
            "10\n"
          ]
        }
      ]
    },
    {
      "cell_type": "markdown",
      "source": [
        "List"
      ],
      "metadata": {
        "id": "Bh5lGyRijImJ"
      }
    },
    {
      "cell_type": "code",
      "source": [
        "bakery = [\"bread\",\"butter\",\"jam\"]\n",
        "print(bakery)\n",
        "print(bakery[2])"
      ],
      "metadata": {
        "colab": {
          "base_uri": "https://localhost:8080/"
        },
        "id": "xzTh5sqEjLWU",
        "outputId": "63064752-2aeb-4f33-f5cb-4e1ef003d743"
      },
      "execution_count": null,
      "outputs": [
        {
          "output_type": "stream",
          "name": "stdout",
          "text": [
            "['bread', 'butter', 'jam']\n",
            "jam\n"
          ]
        }
      ]
    },
    {
      "cell_type": "code",
      "source": [
        "bakery = [\"bread\",\"butter\",\"jam\"]\n",
        "for i in range(len(bakery)):\n",
        "  print(bakery[i])"
      ],
      "metadata": {
        "colab": {
          "base_uri": "https://localhost:8080/"
        },
        "id": "msrpYA44jvSq",
        "outputId": "dc9a7ceb-c448-49dc-cc4c-d20036b8db01"
      },
      "execution_count": null,
      "outputs": [
        {
          "output_type": "stream",
          "name": "stdout",
          "text": [
            "bread\n",
            "butter\n",
            "jam\n"
          ]
        }
      ]
    },
    {
      "cell_type": "code",
      "source": [
        "bakery = [\"bread\",\"butter\",\"jam\"]\n",
        "\n",
        "for items in bakery:\n",
        "  print(items)"
      ],
      "metadata": {
        "colab": {
          "base_uri": "https://localhost:8080/"
        },
        "id": "3QqpzeWgkB4E",
        "outputId": "ffc63af0-14be-4238-c16c-0ec360ba5450"
      },
      "execution_count": null,
      "outputs": [
        {
          "output_type": "stream",
          "name": "stdout",
          "text": [
            "bread\n",
            "butter\n",
            "jam\n"
          ]
        }
      ]
    },
    {
      "cell_type": "code",
      "source": [
        "bakery = [\"bread\",\"butter\",\"jam\"]\n",
        "bakery[1] = \"eggs\"\n",
        "print(bakery)"
      ],
      "metadata": {
        "colab": {
          "base_uri": "https://localhost:8080/"
        },
        "id": "3yI6Yh2ukb0K",
        "outputId": "eec0fd7c-5af8-4c4b-c8df-357fb4072067"
      },
      "execution_count": null,
      "outputs": [
        {
          "output_type": "stream",
          "name": "stdout",
          "text": [
            "['bread', 'eggs', 'jam']\n"
          ]
        }
      ]
    },
    {
      "cell_type": "markdown",
      "source": [
        "tuple"
      ],
      "metadata": {
        "id": "1TxwetsQkrDX"
      }
    },
    {
      "cell_type": "code",
      "source": [
        "bakery = (\"bread\",\"butter\",\"jam\")\n",
        "print(type(bakery))"
      ],
      "metadata": {
        "colab": {
          "base_uri": "https://localhost:8080/"
        },
        "id": "AoFqMcnjksNc",
        "outputId": "d4c34528-30d6-475a-d54d-3654da9f1050"
      },
      "execution_count": null,
      "outputs": [
        {
          "output_type": "stream",
          "name": "stdout",
          "text": [
            "<class 'tuple'>\n"
          ]
        }
      ]
    },
    {
      "cell_type": "code",
      "source": [
        "bakery = (\"bread\",\"butter\",\"jam\")\n",
        "\n",
        "print(bakery)"
      ],
      "metadata": {
        "colab": {
          "base_uri": "https://localhost:8080/"
        },
        "id": "MaEF1layk2ZT",
        "outputId": "d0956f9a-7dd0-4f13-f54b-9edd50357e90"
      },
      "execution_count": null,
      "outputs": [
        {
          "output_type": "stream",
          "name": "stdout",
          "text": [
            "('bread', 'butter', 'jam')\n"
          ]
        }
      ]
    },
    {
      "cell_type": "markdown",
      "source": [
        "set"
      ],
      "metadata": {
        "id": "pmf6Zw7AluXs"
      }
    },
    {
      "cell_type": "code",
      "source": [
        "box = {\"bread\", 2 ,2 , 3, 4, 5 , 5, \"ali\", 2}\n",
        "print(box)"
      ],
      "metadata": {
        "colab": {
          "base_uri": "https://localhost:8080/"
        },
        "id": "aKVUcIvmlvSM",
        "outputId": "a03ff833-0280-43dd-d90a-de30b2147ec0"
      },
      "execution_count": null,
      "outputs": [
        {
          "output_type": "stream",
          "name": "stdout",
          "text": [
            "{'bread', 'ali', 2, 3, 4, 5}\n"
          ]
        }
      ]
    },
    {
      "cell_type": "code",
      "source": [
        "box = {\"bread\", 2 ,2 , 3, 4, 5 , 5, \"ali\", 2}\n",
        "print(box)"
      ],
      "metadata": {
        "colab": {
          "base_uri": "https://localhost:8080/"
        },
        "id": "WRAfRLn1mF7E",
        "outputId": "c6f0b9f8-f175-493b-aa55-6bd19f4f3ac8"
      },
      "execution_count": null,
      "outputs": [
        {
          "output_type": "stream",
          "name": "stdout",
          "text": [
            "{'bread', 'ali', 2, 3, 4, 5}\n"
          ]
        }
      ]
    },
    {
      "cell_type": "code",
      "source": [
        "bakery = {\"bread\",\"butter\",\"jam\"}\n",
        "for items in bakery:\n",
        "  print(items)"
      ],
      "metadata": {
        "colab": {
          "base_uri": "https://localhost:8080/"
        },
        "id": "m00vU28dmPc6",
        "outputId": "59cf5d2e-64b1-4f25-e317-d2f0abaa4849"
      },
      "execution_count": null,
      "outputs": [
        {
          "output_type": "stream",
          "name": "stdout",
          "text": [
            "bread\n",
            "jam\n",
            "butter\n"
          ]
        }
      ]
    },
    {
      "cell_type": "markdown",
      "source": [
        "dictionary"
      ],
      "metadata": {
        "id": "f4HgiaqQmx_U"
      }
    },
    {
      "cell_type": "code",
      "source": [
        "person = {\"name\": \"ali\", \"age\": 20, \"gender\": \"male\"}\n",
        "print(person)\n",
        "print(person[\"gender\"])"
      ],
      "metadata": {
        "colab": {
          "base_uri": "https://localhost:8080/"
        },
        "id": "xuGBEpxZmzau",
        "outputId": "ab72971c-6b2a-44f8-9a4d-33389b0b4299"
      },
      "execution_count": null,
      "outputs": [
        {
          "output_type": "stream",
          "name": "stdout",
          "text": [
            "{'name': 'ali', 'age': 20, 'gender': 'male'}\n",
            "male\n"
          ]
        }
      ]
    },
    {
      "cell_type": "code",
      "source": [
        "person = {\"name\": \"ali\", \"age\": 20, \"gender\": \"male\"}\n",
        "person[\"name\"] = \"ahmad\"\n",
        "print(person)"
      ],
      "metadata": {
        "colab": {
          "base_uri": "https://localhost:8080/"
        },
        "id": "hlAToUKvnU7B",
        "outputId": "9f9c58a5-0abd-4e40-ac5e-0a310687b9b8"
      },
      "execution_count": null,
      "outputs": [
        {
          "output_type": "stream",
          "name": "stdout",
          "text": [
            "{'name': 'ahmad', 'age': 20, 'gender': 'male'}\n"
          ]
        }
      ]
    },
    {
      "cell_type": "code",
      "source": [
        "x =\n",
        "print(type(x))"
      ],
      "metadata": {
        "colab": {
          "base_uri": "https://localhost:8080/"
        },
        "id": "zUZvPJkJpLr4",
        "outputId": "ba1133fe-2310-4068-d71c-e476e438fb06"
      },
      "execution_count": null,
      "outputs": [
        {
          "output_type": "stream",
          "name": "stdout",
          "text": [
            "<class 'int'>\n"
          ]
        }
      ]
    }
  ]
}